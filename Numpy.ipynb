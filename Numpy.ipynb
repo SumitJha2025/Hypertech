{
 "cells": [
  {
   "cell_type": "markdown",
   "id": "e6c8c70e-cccd-4763-9d97-e9f33473ed5c",
   "metadata": {},
   "source": [
    "### Name : SUMIT JHA"
   ]
  },
  {
   "cell_type": "markdown",
   "id": "58a263a8-5d93-44ae-a135-f66b31893118",
   "metadata": {},
   "source": [
    "#### BATCH DA (BATCH-A2)"
   ]
  },
  {
   "cell_type": "markdown",
   "id": "813c787b-4410-4a5c-85b0-556d4902f151",
   "metadata": {},
   "source": [
    "Q1. Create the first numpy array of 1-D with values (1,2,3,0).\n",
    "Create a second numpy array of 1-D with values (4,1,0, 6).\n",
    "Perform following simple arithmetic operations on these two numpy arrays:\n",
    "• Addition\n",
    "• Subtraction\n",
    "• Multiplication\n",
    "• Division"
   ]
  },
  {
   "cell_type": "code",
   "execution_count": 69,
   "id": "891652f8-f87c-4c9d-bf08-255dad3c182d",
   "metadata": {},
   "outputs": [],
   "source": [
    "\n",
    "import numpy as np"
   ]
  },
  {
   "cell_type": "code",
   "execution_count": 73,
   "id": "41e75206-87d2-4be6-888a-cfc20573e854",
   "metadata": {},
   "outputs": [],
   "source": [
    "#Creating 1-D numpy array\n",
    "#fna = first numpy array and sna = second numpy array\n",
    "fna = np.array([1,2,3,0])\n",
    "sna = np.array([4,1,0,6])\n"
   ]
  },
  {
   "cell_type": "code",
   "execution_count": 75,
   "id": "5409a566-06df-4236-9043-6272995c069f",
   "metadata": {},
   "outputs": [
    {
     "data": {
      "text/plain": [
       "array([5, 3, 3, 6])"
      ]
     },
     "execution_count": 75,
     "metadata": {},
     "output_type": "execute_result"
    }
   ],
   "source": [
    "#addition\n",
    "add= fna+sna\n",
    "add"
   ]
  },
  {
   "cell_type": "code",
   "execution_count": 77,
   "id": "44db1911-4560-4996-ae3b-f1df4e3943a6",
   "metadata": {},
   "outputs": [
    {
     "data": {
      "text/plain": [
       "array([-3,  1,  3, -6])"
      ]
     },
     "execution_count": 77,
     "metadata": {},
     "output_type": "execute_result"
    }
   ],
   "source": [
    "#Subtraction\n",
    "sub = fna-sna\n",
    "sub\n"
   ]
  },
  {
   "cell_type": "code",
   "execution_count": 79,
   "id": "e4f73958-1cd8-4abb-aa5f-ce0862d6e48e",
   "metadata": {},
   "outputs": [
    {
     "data": {
      "text/plain": [
       "array([4, 2, 0, 0])"
      ]
     },
     "execution_count": 79,
     "metadata": {},
     "output_type": "execute_result"
    }
   ],
   "source": [
    "#multipication\n",
    "multiply = fna * sna\n",
    "multiply\n"
   ]
  },
  {
   "cell_type": "code",
   "execution_count": 81,
   "id": "5eead2c1-bc8a-495a-8486-b1f9ca3b959e",
   "metadata": {},
   "outputs": [
    {
     "data": {
      "text/plain": [
       "array([4, 2, 0, 0])"
      ]
     },
     "execution_count": 81,
     "metadata": {},
     "output_type": "execute_result"
    }
   ],
   "source": [
    "#division\n",
    "div = fna * sna\n",
    "div"
   ]
  },
  {
   "cell_type": "markdown",
   "id": "31106846-0974-40fd-b1b9-b9ae56d9a61f",
   "metadata": {},
   "source": [
    "Q2. Create the first numpy array of random integers between 1-100 of 5 elements in 1-D.\n",
    "Create second numpy array of 2-D for the same range of integers of shape 4*5.\n",
    "Now perform following simple arithmetic operations on these two numpy arrays:\n",
    "• Addition\n",
    "• Subtraction"
   ]
  },
  {
   "cell_type": "code",
   "execution_count": 84,
   "id": "73b40493-6ce2-4542-9e14-0b4d3653c914",
   "metadata": {},
   "outputs": [
    {
     "data": {
      "text/plain": [
       "array([20, 99, 83, 75, 12])"
      ]
     },
     "execution_count": 84,
     "metadata": {},
     "output_type": "execute_result"
    }
   ],
   "source": [
    "one_d_array= np.random.randint(1,100, size = 5)\n",
    "one_d_array\n"
   ]
  },
  {
   "cell_type": "code",
   "execution_count": 86,
   "id": "ff02edc2-d197-4ef3-8f23-a4aeb016e51c",
   "metadata": {},
   "outputs": [
    {
     "data": {
      "text/plain": [
       "array([[71, 86, 36, 66, 91],\n",
       "       [17, 72, 87, 57, 38],\n",
       "       [ 1, 53,  1, 42, 81],\n",
       "       [33, 26, 92, 16,  3]])"
      ]
     },
     "execution_count": 86,
     "metadata": {},
     "output_type": "execute_result"
    }
   ],
   "source": [
    "two_d_array = np.random.randint(1,100, size = (4,5))\n",
    "two_d_array"
   ]
  },
  {
   "cell_type": "code",
   "execution_count": 88,
   "id": "30dea027-e018-458c-90e0-90f74355a4bb",
   "metadata": {},
   "outputs": [
    {
     "data": {
      "text/plain": [
       "array([[ 91, 185, 119, 141, 103],\n",
       "       [ 37, 171, 170, 132,  50],\n",
       "       [ 21, 152,  84, 117,  93],\n",
       "       [ 53, 125, 175,  91,  15]])"
      ]
     },
     "execution_count": 88,
     "metadata": {},
     "output_type": "execute_result"
    }
   ],
   "source": [
    "#addition\n",
    "\n",
    "add= one_d_array+two_d_array\n",
    "\n",
    "add"
   ]
  },
  {
   "cell_type": "code",
   "execution_count": 90,
   "id": "016a9fc7-04e6-47ce-a34c-e8973e19f881",
   "metadata": {},
   "outputs": [
    {
     "data": {
      "text/plain": [
       "array([[ 51, -13, -47,  -9,  79],\n",
       "       [ -3, -27,   4, -18,  26],\n",
       "       [-19, -46, -82, -33,  69],\n",
       "       [ 13, -73,   9, -59,  -9]])"
      ]
     },
     "execution_count": 90,
     "metadata": {},
     "output_type": "execute_result"
    }
   ],
   "source": [
    "#Subtraction\n",
    "Sub= two_d_array-one_d_array\n",
    "Sub"
   ]
  },
  {
   "cell_type": "markdown",
   "id": "67c6cea0-da40-493c-8d0b-f040f21c5b75",
   "metadata": {},
   "source": [
    "Q3. Create a 3-D array of 27 random elements using random function of shape 3*3*3.\n",
    "Now pull the following elements using indexing/slicing\n",
    "• Third column of second 2-D array\n",
    "• First and third row of first 2-D array\n",
    "• Intersection of first row and third column in third 2-D array"
   ]
  },
  {
   "cell_type": "code",
   "execution_count": 139,
   "id": "8fb28691-061b-40c1-ae03-347120804909",
   "metadata": {},
   "outputs": [
    {
     "data": {
      "text/plain": [
       "array([[[0.13276167, 0.06136216, 0.29401163],\n",
       "        [0.57103212, 0.57683654, 0.68396146],\n",
       "        [0.63283513, 0.09100296, 0.06350801]],\n",
       "\n",
       "       [[0.49272785, 0.59335678, 0.12201603],\n",
       "        [0.38175284, 0.56256858, 0.53078376],\n",
       "        [0.24424111, 0.31515558, 0.76856552]],\n",
       "\n",
       "       [[0.02199774, 0.11632011, 0.82942547],\n",
       "        [0.77544558, 0.27372003, 0.40438073],\n",
       "        [0.58372377, 0.25862828, 0.1162732 ]]])"
      ]
     },
     "execution_count": 139,
     "metadata": {},
     "output_type": "execute_result"
    }
   ],
   "source": [
    "array_3d = np.random.rand(3, 3, 3)\n",
    "array_3d"
   ]
  },
  {
   "cell_type": "code",
   "execution_count": 141,
   "id": "9b145c9f-537f-41f9-852e-ce88988d6ce1",
   "metadata": {},
   "outputs": [
    {
     "name": "stdout",
     "output_type": "stream",
     "text": [
      "[0.12201603 0.53078376 0.76856552]\n"
     ]
    }
   ],
   "source": [
    "\n",
    "third_column_second_2d = array_3d[1][:, 2]\n",
    "print( third_column_second_2d)"
   ]
  },
  {
   "cell_type": "code",
   "execution_count": 145,
   "id": "0b779943-81f6-4f04-8032-d4eda7dc5602",
   "metadata": {},
   "outputs": [
    {
     "name": "stdout",
     "output_type": "stream",
     "text": [
      "[[0.13276167 0.06136216 0.29401163]\n",
      " [0.63283513 0.09100296 0.06350801]]\n"
     ]
    }
   ],
   "source": [
    "rows_first_third_first_2d = array_3d[0][[0, 2], :]\n",
    "print(rows_first_third_first_2d)"
   ]
  },
  {
   "cell_type": "code",
   "execution_count": 147,
   "id": "2d882f01-7771-414a-bb65-8629e53493aa",
   "metadata": {},
   "outputs": [
    {
     "name": "stdout",
     "output_type": "stream",
     "text": [
      "0.829425467074406\n"
     ]
    }
   ],
   "source": [
    "intersection = array_3d[2][0, 2]\n",
    "print(intersection)"
   ]
  },
  {
   "cell_type": "markdown",
   "id": "6a9347f8-e85b-43be-a0b9-7d6ce83897eb",
   "metadata": {},
   "source": [
    "Q4. Create a 2-D numpy array of random integers between 1 to 100 with shape 5*4.\n",
    "Now perform following operations:\n",
    "• Print only the even numbers from this array\n",
    "• Print only the odd numbers from this array\n",
    "• Print row wise sum of all elements\n",
    "• Print column wise sum of all elements\n",
    "• Convert this 2-D array into 3-D array of shape 2*2*5"
   ]
  },
  {
   "cell_type": "code",
   "execution_count": 149,
   "id": "bfbd4062-9882-4bd1-b01a-2f2cf99ee69d",
   "metadata": {},
   "outputs": [
    {
     "name": "stdout",
     "output_type": "stream",
     "text": [
      "[[15 68 34  9]\n",
      " [32 38 40 57]\n",
      " [15 42 79 83]\n",
      " [69 47 16 50]\n",
      " [99  2 90  3]]\n"
     ]
    }
   ],
   "source": [
    "array_2d = np.random.randint(1, 101, size=(5, 4))\n",
    "print(array_2d)"
   ]
  },
  {
   "cell_type": "code",
   "execution_count": 151,
   "id": "d22bc32b-a4b7-463c-800f-da085fe1ea5e",
   "metadata": {},
   "outputs": [
    {
     "name": "stdout",
     "output_type": "stream",
     "text": [
      "[68 34 32 38 40 42 16 50  2 90]\n"
     ]
    }
   ],
   "source": [
    "even_numbers = array_2d[array_2d % 2 == 0]\n",
    "print(even_numbers)"
   ]
  },
  {
   "cell_type": "code",
   "execution_count": 153,
   "id": "8f6a295d-4f64-41a7-aae8-9b8095a5a4e8",
   "metadata": {},
   "outputs": [
    {
     "name": "stdout",
     "output_type": "stream",
     "text": [
      "[15  9 57 15 79 83 69 47 99  3]\n"
     ]
    }
   ],
   "source": [
    "odd_numbers = array_2d[array_2d % 2 != 0]\n",
    "print(odd_numbers)"
   ]
  },
  {
   "cell_type": "code",
   "execution_count": 157,
   "id": "f18b3dc9-2982-4c8f-badd-defd3f50d515",
   "metadata": {},
   "outputs": [
    {
     "name": "stdout",
     "output_type": "stream",
     "text": [
      "[126 167 219 182 194]\n"
     ]
    }
   ],
   "source": [
    "row_wise_sum = np.sum(array_2d, axis=1)\n",
    "print(row_wise_sum)"
   ]
  },
  {
   "cell_type": "code",
   "execution_count": 159,
   "id": "f016736f-7a97-4815-a2ad-468b87956592",
   "metadata": {},
   "outputs": [
    {
     "name": "stdout",
     "output_type": "stream",
     "text": [
      "[[[15 68 34  9 32]\n",
      "  [38 40 57 15 42]]\n",
      "\n",
      " [[79 83 69 47 16]\n",
      "  [50 99  2 90  3]]]\n"
     ]
    }
   ],
   "source": [
    "array_3d = array_2d.reshape(2, 2, 5)\n",
    "print(array_3d)"
   ]
  },
  {
   "cell_type": "markdown",
   "id": "78c9bf20-d556-4838-a98b-4203a6248b34",
   "metadata": {},
   "source": [
    "Q5. Create a 2-D numpy array of random integers between 1 to 100 with shape 5*4. Now\n",
    "perform following operations:\n",
    "• Swap first row with third row\n",
    "• Swap second column with fourth column.\n",
    "• Replace the values less than 50 with zero.\n",
    "• Convert this 2D array into 1-D array"
   ]
  },
  {
   "cell_type": "code",
   "execution_count": 111,
   "id": "77dcfce8-33b4-4d94-bd13-c0287b653f67",
   "metadata": {},
   "outputs": [
    {
     "name": "stdout",
     "output_type": "stream",
     "text": [
      "Original 2D Array:\n",
      " [[ 84   2   5  44]\n",
      " [ 67  63   2  50]\n",
      " [ 38  31 100  54]\n",
      " [ 75  86  60   9]\n",
      " [ 35   8   2  88]]\n"
     ]
    }
   ],
   "source": [
    "# Create a 2D array with random integers from 1 to 100\n",
    "array_2d = np.random.randint(1, 101, size=(5, 4))\n",
    "print(\"Original 2D Array:\\n\", array_2d)"
   ]
  },
  {
   "cell_type": "code",
   "execution_count": 113,
   "id": "ad887ab5-e71c-499b-9bf1-94d6b37f00fc",
   "metadata": {},
   "outputs": [
    {
     "name": "stdout",
     "output_type": "stream",
     "text": [
      "After swapping first and third row:\n",
      " [[ 38  31 100  54]\n",
      " [ 67  63   2  50]\n",
      " [ 84   2   5  44]\n",
      " [ 75  86  60   9]\n",
      " [ 35   8   2  88]]\n"
     ]
    }
   ],
   "source": [
    "# Swap the first row with the third row\n",
    "array_2d[[0, 2]] = array_2d[[2, 0]]\n",
    "print(\"After swapping first and third row:\\n\", array_2d)"
   ]
  },
  {
   "cell_type": "code",
   "execution_count": 115,
   "id": "241f40b9-ef59-45a1-9cef-13b8aae9d47f",
   "metadata": {},
   "outputs": [
    {
     "name": "stdout",
     "output_type": "stream",
     "text": [
      "After swapping second and fourth column:\n",
      " [[ 38  54 100  31]\n",
      " [ 67  50   2  63]\n",
      " [ 84  44   5   2]\n",
      " [ 75   9  60  86]\n",
      " [ 35  88   2   8]]\n"
     ]
    }
   ],
   "source": [
    "# Swap the second column with the fourth column\n",
    "array_2d[:, [1, 3]] = array_2d[:, [3, 1]]\n",
    "print(\"After swapping second and fourth column:\\n\", array_2d)"
   ]
  },
  {
   "cell_type": "code",
   "execution_count": 117,
   "id": "276ce7c7-25ea-43de-bbec-1bf9bbd2c91b",
   "metadata": {},
   "outputs": [
    {
     "name": "stdout",
     "output_type": "stream",
     "text": [
      "After replacing values less than 50 with zero:\n",
      " [[  0  54 100   0]\n",
      " [ 67  50   0  63]\n",
      " [ 84   0   0   0]\n",
      " [ 75   0  60  86]\n",
      " [  0  88   0   0]]\n"
     ]
    }
   ],
   "source": [
    "# Replace values less than 50 with zero\n",
    "array_2d[array_2d < 50] = 0\n",
    "print(\"After replacing values less than 50 with zero:\\n\", array_2d)"
   ]
  },
  {
   "cell_type": "code",
   "execution_count": 119,
   "id": "fcafc51c-deec-4c04-8e35-ddf1b2f5adec",
   "metadata": {},
   "outputs": [
    {
     "name": "stdout",
     "output_type": "stream",
     "text": [
      "Converted 1D Array:\n",
      " [  0  54 100   0  67  50   0  63  84   0   0   0  75   0  60  86   0  88\n",
      "   0   0]\n"
     ]
    }
   ],
   "source": [
    "# Convert the 2D array into a 1D array\n",
    "array_1d = array_2d.flatten()\n",
    "print(\"Converted 1D Array:\\n\", array_1d)"
   ]
  },
  {
   "cell_type": "markdown",
   "id": "6f073671-2908-4aaf-8160-d19c7f2a88b6",
   "metadata": {},
   "source": [
    "Q6. Explain the concept of stacking in numpy with examples. How is it di􀆯erent from\n",
    "concatenation. Give any 3 di􀆯erences between them"
   ]
  },
  {
   "cell_type": "markdown",
   "id": "99086d8c-68be-471d-ba3a-4f7560dfacac",
   "metadata": {},
   "source": [
    "1. Dimension Change:\n",
    "Stacking creates a new axis, increasing the dimensionality of the resulting array, while concatenation preserves the original dimensionality. \n",
    "2. Joining Method:\n",
    "Stacking joins arrays along a new axis, while concatenation joins arrays along an existing axis. \n",
    "3. Resulting Array:\n",
    "Stacking results in a higher-dimensional array with a new axis, whereas concatenation results in a single, potentially larger array along an existing dimension. "
   ]
  }
 ],
 "metadata": {
  "kernelspec": {
   "display_name": "Python [conda env:base] *",
   "language": "python",
   "name": "conda-base-py"
  },
  "language_info": {
   "codemirror_mode": {
    "name": "ipython",
    "version": 3
   },
   "file_extension": ".py",
   "mimetype": "text/x-python",
   "name": "python",
   "nbconvert_exporter": "python",
   "pygments_lexer": "ipython3",
   "version": "3.12.7"
  }
 },
 "nbformat": 4,
 "nbformat_minor": 5
}
