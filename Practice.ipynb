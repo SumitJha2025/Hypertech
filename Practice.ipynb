{
 "cells": [
  {
   "cell_type": "markdown",
   "id": "391626b3-f2b3-49e5-bfd2-c177971a7a9e",
   "metadata": {},
   "source": [
    "### Name : SUMIT JHA"
   ]
  },
  {
   "cell_type": "markdown",
   "id": "c48b388e-641c-497f-a743-3d6f4797b7bc",
   "metadata": {},
   "source": [
    "#### BATCH DA (BATCH-A2)"
   ]
  },
  {
   "cell_type": "markdown",
   "id": "d4f67842-8740-4105-b8f7-e0dc0c0dd815",
   "metadata": {},
   "source": [
    "##### Q:1 Fiz Buzz with a Twist\n",
    "#####  Write a Python program that prints numbers from 1 to 100, but:\n",
    "#####  For multiples of 3, print \"Fizz\" instead of the number.\n",
    "#####  For multiples of 5, print \"Buzz\".\n",
    "#####  For numbers which are multiples of both 3 and 5, print \"Fizz Buzz\".\n",
    "##### For numbers that are prime, print \"Prime\".\n",
    "#####  For all other numbers, print the number itself."
   ]
  },
  {
   "cell_type": "code",
   "execution_count": 48,
   "id": "79d97974-63c9-4737-b1cf-f16c8c7a4fdd",
   "metadata": {},
   "outputs": [
    {
     "name": "stdout",
     "output_type": "stream",
     "text": [
      "1 Prime Fizz 4 Buzz Fizz Prime 8 Fizz Buzz Prime Fizz Prime 14 Fizz Buzz 16 Prime Fizz Prime Buzz Fizz 22 Prime Fizz Buzz 26 Fizz 28 Prime Fizz Buzz Prime 32 Fizz 34 Buzz Fizz Prime 38 Fizz Buzz Prime Fizz Prime 44 Fizz Buzz 46 Prime Fizz 49 Buzz Fizz 52 Prime Fizz Buzz 56 Fizz 58 Prime Fizz Buzz Prime 62 Fizz 64 Buzz Fizz Prime 68 Fizz Buzz Prime Fizz Prime 74 Fizz Buzz 76 77 Fizz Prime Buzz Fizz 82 Prime Fizz Buzz 86 Fizz 88 Prime Fizz Buzz 91 92 Fizz 94 Buzz Fizz Prime 98 Fizz Buzz "
     ]
    }
   ],
   "source": [
    "# c\n",
    "def is_prime(n):\n",
    "    if n < 2:\n",
    "        return False\n",
    "    for i in range(2, int(n**0.5)+1):\n",
    "        if n % i == 0:\n",
    "            return False\n",
    "    return True\n",
    "\n",
    "for num in range(1, 101):\n",
    "    output = \"\"\n",
    "\n",
    "    if num % 3 == 0 and num % 5 == 0:\n",
    "        output = \"Fizz Buzz\"\n",
    "    elif num % 3 == 0:\n",
    "        output = \"Fizz\"\n",
    "    elif num % 5 == 0:\n",
    "        output = \"Buzz\"\n",
    "    elif is_prime(num):\n",
    "        output = \"Prime\"\n",
    "    else:\n",
    "        output = str(num)\n",
    "\n",
    "    print(output, end = \" \")"
   ]
  },
  {
   "cell_type": "markdown",
   "id": "a4176274-f2a6-4e63-9694-3dd6946fbb53",
   "metadata": {},
   "source": [
    "##### Q:2 Write a Python program that takes three integers as input. Print \"Even\" if the sum of all three numbers is even. Print \"Odd\" otherwise."
   ]
  },
  {
   "cell_type": "code",
   "execution_count": 40,
   "id": "1fe2942b-afec-45ea-9cad-8d23bb69fc75",
   "metadata": {},
   "outputs": [
    {
     "name": "stdin",
     "output_type": "stream",
     "text": [
      "Enter number 1 : 25\n",
      "Enter number 2 : 65\n",
      "Enter number 3 : 30\n"
     ]
    },
    {
     "name": "stdout",
     "output_type": "stream",
     "text": [
      "even\n"
     ]
    }
   ],
   "source": [
    "input1 =int(input(f\"Enter number 1 :\"))\n",
    "input2 =int(input(f\"Enter number 2 :\"))\n",
    "input3 =int(input(f\"Enter number 3 :\"))\n",
    "\n",
    "final_output = input1+input2+input3\n",
    "\n",
    "if final_output % 2== 0:\n",
    "    print (f\"even\")\n",
    "else:\n",
    "    print (f\"odd\")\n",
    "\n"
   ]
  },
  {
   "cell_type": "markdown",
   "id": "0900371d-9f7a-444e-a61e-d6ce7a4dc0a4",
   "metadata": {},
   "source": [
    "##### Q:4 Ask the user to input a number. Check whether the number is a palindrome (sameforward and backward, like 121 or 1331)."
   ]
  },
  {
   "cell_type": "code",
   "execution_count": 41,
   "id": "5f931cfb-6054-4090-8fe0-8939ccf41d65",
   "metadata": {},
   "outputs": [
    {
     "name": "stdin",
     "output_type": "stream",
     "text": [
      "Please enter a number : 88\n"
     ]
    },
    {
     "name": "stdout",
     "output_type": "stream",
     "text": [
      "Palindrome\n"
     ]
    }
   ],
   "source": [
    "user_input = (input(f\"Please enter a number :\"))\n",
    "if user_input == user_input[::-1]:\n",
    "    print(f\"Palindrome\")\n",
    "else:\n",
    "    print(f\"Not a palindrome\")"
   ]
  },
  {
   "cell_type": "markdown",
   "id": "2688e69a-43a6-417a-90e5-7c20c3dfd0bf",
   "metadata": {},
   "source": [
    "##### Q:5 Ask the user for a number, and print its multiplication table up to 10"
   ]
  },
  {
   "cell_type": "code",
   "execution_count": 42,
   "id": "f0f7d642-5d99-4114-aa74-54be340bbf0a",
   "metadata": {},
   "outputs": [
    {
     "name": "stdin",
     "output_type": "stream",
     "text": [
      "Please enter a number 88\n"
     ]
    },
    {
     "name": "stdout",
     "output_type": "stream",
     "text": [
      "Multiplication table for 88:\n",
      "88 x 1 = 88\n",
      "88 x 2 = 176\n",
      "88 x 3 = 264\n",
      "88 x 4 = 352\n",
      "88 x 5 = 440\n",
      "88 x 6 = 528\n",
      "88 x 7 = 616\n",
      "88 x 8 = 704\n",
      "88 x 9 = 792\n",
      "88 x 10 = 880\n"
     ]
    }
   ],
   "source": [
    "Num1= (int(input(f\"Please enter a number\")))\n",
    "\n",
    "print(f\"Multiplication table for {Num1}:\")\n",
    "\n",
    "for i in range(1, 11):\n",
    "    print(f\"{Num1} x {i} = {Num1 * i}\")\n"
   ]
  },
  {
   "cell_type": "markdown",
   "id": "fb6d5a62-3d72-41a2-8eea-64aa7556271a",
   "metadata": {},
   "source": [
    "##### Q:6 Ask the user for a number and calculate its factorial using a loop."
   ]
  },
  {
   "cell_type": "code",
   "execution_count": 45,
   "id": "784c1e6b-9611-47c1-9043-02cc410cac1d",
   "metadata": {},
   "outputs": [
    {
     "name": "stdin",
     "output_type": "stream",
     "text": [
      "Enter a number to calculate its factorial:  22\n"
     ]
    },
    {
     "name": "stdout",
     "output_type": "stream",
     "text": [
      "The factorial of 22 is 1124000727777607680000\n"
     ]
    }
   ],
   "source": [
    "# Ask the user for a number\n",
    "num = int(input(\"Enter a number to calculate its factorial: \"))\n",
    "\n",
    "# Initialize factorial to 1 (since factorial of 0 and 1 is 1)\n",
    "factorial = 1\n",
    "\n",
    "# Loop through all numbers from 1 to num\n",
    "for i in range(1, num + 1):\n",
    "    factorial *= i\n",
    "\n",
    "# Print the result\n",
    "print(f\"The factorial of {num} is {factorial}\")\n"
   ]
  },
  {
   "cell_type": "markdown",
   "id": "6c630045-b982-4f2e-9fd0-22e4e71a032d",
   "metadata": {},
   "source": [
    "##### Q:7 Simple Discount Calculator\n",
    "##### Ask for purchase amount.\n",
    "#####  If amount ≥ 5000, apply 20% discount\n",
    "#####  If amount ≥ 2000, apply 10% discount\n",
    "#####  Else, no discount\n",
    "##### Print final amount after discount."
   ]
  },
  {
   "cell_type": "code",
   "execution_count": 39,
   "id": "853bad4c-1047-484a-b3f6-5239d81672f3",
   "metadata": {},
   "outputs": [
    {
     "name": "stdin",
     "output_type": "stream",
     "text": [
      "Please enter the amount 2500\n"
     ]
    },
    {
     "name": "stdout",
     "output_type": "stream",
     "text": [
      "Final amount to be paid after discount :  2250.0\n"
     ]
    }
   ],
   "source": [
    "amount= (int(input(f\"Please enter the amount\")))\n",
    "if amount >= 5000:\n",
    "    print ( f\"final amount to be paid after discount :\" ,(amount) - (amount) * .20 )\n",
    "elif amount >= 2000:\n",
    "    print ( f\"Final amount to be paid after discount : \" ,(amount) - (amount) * .10 )\n",
    "else:\n",
    "    print (f\"No discount\")\n",
    "\n"
   ]
  },
  {
   "cell_type": "code",
   "execution_count": null,
   "id": "a4a29521-369e-45bb-9b10-031fa6b75b40",
   "metadata": {},
   "outputs": [],
   "source": []
  }
 ],
 "metadata": {
  "kernelspec": {
   "display_name": "Python [conda env:.conda-notebook]",
   "language": "python",
   "name": "conda-env-.conda-notebook-py"
  },
  "language_info": {
   "codemirror_mode": {
    "name": "ipython",
    "version": 3
   },
   "file_extension": ".py",
   "mimetype": "text/x-python",
   "name": "python",
   "nbconvert_exporter": "python",
   "pygments_lexer": "ipython3",
   "version": "3.11.10"
  }
 },
 "nbformat": 4,
 "nbformat_minor": 5
}
